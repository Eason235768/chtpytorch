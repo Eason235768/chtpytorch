{
 "cells": [
  {
   "cell_type": "markdown",
   "metadata": {},
   "source": [
    "## Gradient Descent"
   ]
  },
  {
   "cell_type": "code",
   "execution_count": null,
   "metadata": {},
   "outputs": [],
   "source": [
    "import numpy as np\n",
    "sizes = [784,30,10]\n",
    "\n",
    "num_layers = len(sizes)\n",
    "biases = [np.random.randn(y, 1) for y in sizes[1:]]\n",
    "weights = [np.random.randn(y, x)\n",
    "                for x, y in zip(sizes[:-1], sizes[1:])]"
   ]
  },
  {
   "cell_type": "code",
   "execution_count": 63,
   "metadata": {},
   "outputs": [
    {
     "name": "stdout",
     "output_type": "stream",
     "text": [
      "[30, 10]\n",
      "[784, 30]\n"
     ]
    }
   ],
   "source": [
    "print(sizes[1:])\n",
    "print(sizes[:-1])"
   ]
  },
  {
   "cell_type": "code",
   "execution_count": 22,
   "metadata": {},
   "outputs": [
    {
     "name": "stdout",
     "output_type": "stream",
     "text": [
      "<type 'numpy.ndarray'>\n",
      "(30, 1)\n",
      "(10, 1)\n"
     ]
    }
   ],
   "source": [
    "type(biases)\n",
    "print(type(biases[0]))\n",
    "print(biases[0].shape)\n",
    "print(biases[1].shape)"
   ]
  },
  {
   "cell_type": "code",
   "execution_count": 23,
   "metadata": {},
   "outputs": [
    {
     "name": "stdout",
     "output_type": "stream",
     "text": [
      "<type 'numpy.ndarray'>\n",
      "(30, 784)\n",
      "(10, 30)\n"
     ]
    }
   ],
   "source": [
    "type(weights)\n",
    "print(type(weights[0]))\n",
    "print(weights[0].shape)\n",
    "print(weights[1].shape)"
   ]
  },
  {
   "cell_type": "code",
   "execution_count": 2,
   "metadata": {},
   "outputs": [],
   "source": [
    "def sigmoid(z):\n",
    "    return 1.0/(1.0+np.exp(-z))"
   ]
  },
  {
   "cell_type": "code",
   "execution_count": 3,
   "metadata": {},
   "outputs": [],
   "source": [
    "import mnist_loader\n",
    "\n",
    "training_data, _, _ =  mnist_loader.load_data_wrapper()\n",
    "\n"
   ]
  },
  {
   "cell_type": "code",
   "execution_count": 24,
   "metadata": {},
   "outputs": [
    {
     "data": {
      "text/plain": [
       "array([[0.89739246],\n",
       "       [0.36103551],\n",
       "       [0.80577026],\n",
       "       [0.46791665],\n",
       "       [0.91205106],\n",
       "       [0.01002839],\n",
       "       [0.02815328],\n",
       "       [0.47395994],\n",
       "       [0.64793243],\n",
       "       [0.00751183]])"
      ]
     },
     "execution_count": 24,
     "metadata": {},
     "output_type": "execute_result"
    }
   ],
   "source": [
    "x = training_data[0][0]\n",
    "w1 = weights[0]\n",
    "b1 = biases[0]\n",
    "a1 = np.dot(w1,x) + b1\n",
    "z1 = sigmoid(a1)\n",
    "print(z1.shape)\n",
    "\n",
    "w2 = weights[1]\n",
    "b2 = biases[1]\n",
    "\n",
    "z2=sigmoid(np.dot(w2,z1) + b2)\n",
    "print(z2)"
   ]
  },
  {
   "cell_type": "markdown",
   "metadata": {},
   "source": [
    "# 手動計算所有樣本的loss值"
   ]
  },
  {
   "cell_type": "code",
   "execution_count": 8,
   "metadata": {},
   "outputs": [
    {
     "data": {
      "text/plain": [
       "1.7051317887464286"
      ]
     },
     "execution_count": 8,
     "metadata": {},
     "output_type": "execute_result"
    }
   ],
   "source": [
    "import numpy as np\n",
    "\n",
    "def sigmoid(z):\n",
    "    return 1.0/(1.0+np.exp(-z))\n",
    "\n",
    "\n",
    "def loss_func(a,y):\n",
    "    return 0.5 * (a - y) ** 2\n",
    "\n",
    "w1 = np.random.randn(30,784)\n",
    "b1 = np.random.randn(30,1)\n",
    "\n",
    "w2 = np.random.randn(10,30)\n",
    "b2 = np.random.randn(10,1)\n",
    "\n",
    "length = len(training_data)\n",
    "\n",
    "losses = 0\n",
    "\n",
    "for x, y in training_data:\n",
    "    z1 = np.dot(w1,x)+b1\n",
    "    a1 = sigmoid(z1)\n",
    "\n",
    "    z2 = np.dot(w2,a1)+b2\n",
    "    a2 = sigmoid(z2)\n",
    "    loss = loss_func(a2, y)\n",
    "    losses += loss\n",
    "\n",
    "losses.sum() / length"
   ]
  },
  {
   "cell_type": "code",
   "execution_count": 35,
   "metadata": {},
   "outputs": [
    {
     "data": {
      "text/plain": [
       "array([[1.],\n",
       "       [0.],\n",
       "       [0.],\n",
       "       [0.],\n",
       "       [0.],\n",
       "       [0.],\n",
       "       [0.],\n",
       "       [0.],\n",
       "       [0.],\n",
       "       [0.]])"
      ]
     },
     "execution_count": 35,
     "metadata": {},
     "output_type": "execute_result"
    }
   ],
   "source": [
    "import random\n",
    "random.shuffle(training_data)\n",
    "training_data[0][1]"
   ]
  },
  {
   "cell_type": "code",
   "execution_count": 42,
   "metadata": {},
   "outputs": [
    {
     "name": "stdout",
     "output_type": "stream",
     "text": [
      "<type 'list'>\n",
      "<type 'numpy.ndarray'>\n",
      "(30, 1)\n",
      "(10, 1)\n"
     ]
    }
   ],
   "source": [
    "nabla_b = [np.zeros(b.shape) for b in biases]\n",
    "print(type(nabla_b))\n",
    "print(type(nabla_b[0]))\n",
    "print(nabla_b[0].shape)\n",
    "print(nabla_b[1].shape)"
   ]
  },
  {
   "cell_type": "code",
   "execution_count": 43,
   "metadata": {},
   "outputs": [
    {
     "name": "stdout",
     "output_type": "stream",
     "text": [
      "<type 'list'>\n",
      "<type 'numpy.ndarray'>\n",
      "(30, 784)\n",
      "(10, 30)\n"
     ]
    }
   ],
   "source": [
    "nabla_w = [np.zeros(w.shape) for w in weights]\n",
    "print(type(nabla_w))\n",
    "print(type(nabla_w[0]))\n",
    "print(nabla_w[0].shape)\n",
    "print(nabla_w[1].shape)"
   ]
  },
  {
   "cell_type": "code",
   "execution_count": 65,
   "metadata": {},
   "outputs": [],
   "source": [
    "def backprop(x, y):\n",
    "        \n",
    "    nabla_b = [np.zeros(b.shape) for b in biases]\n",
    "    nabla_w = [np.zeros(w.shape) for w in weights]\n",
    "    \n",
    "    activation = x\n",
    "    \n",
    "    activations = [x] # list to store all the activations, layer by layer\n",
    "    zs = [] # list to store all the z vectors, layer by layer\n",
    "    for b, w in zip(biases, weights):\n",
    "        z = np.dot(w, activation)+b\n",
    "        zs.append(z)\n",
    "        activation = sigmoid(z)\n",
    "        activations.append(activation)\n",
    "        \n",
    "    delta = cost_derivative(activations[-1], y) * \\\n",
    "        sigmoid_prime(zs[-1])\n",
    "    nabla_b[-1] = delta\n",
    "    nabla_w[-1] = np.dot(delta, activations[-2].transpose())\n",
    "        \n",
    "    for l in xrange(2, num_layers):\n",
    "        z = zs[-l]\n",
    "        sp = sigmoid_prime(z)\n",
    "        delta = np.dot(weights[-l+1].transpose(), delta) * sp\n",
    "        nabla_b[-l] = delta\n",
    "        nabla_w[-l] = np.dot(delta, activations[-l-1].transpose())\n",
    "    return (nabla_b, nabla_w)"
   ]
  },
  {
   "cell_type": "code",
   "execution_count": 66,
   "metadata": {},
   "outputs": [
    {
     "name": "stdout",
     "output_type": "stream",
     "text": [
      "<type 'list'>\n",
      "(30, 784)\n"
     ]
    }
   ],
   "source": [
    "def cost_derivative(output_activations, y):\n",
    "    return (output_activations-y)\n",
    "\n",
    "def sigmoid(z):\n",
    "    \"\"\"The sigmoid function.\"\"\"\n",
    "    return 1.0/(1.0+np.exp(-z))\n",
    "\n",
    "def sigmoid_prime(z):\n",
    "    \"\"\"Derivative of the sigmoid function.\"\"\"\n",
    "    return sigmoid(z)*(1-sigmoid(z))\n",
    "\n",
    "x, y = training_data[0]\n",
    "delta_nabla_b, delta_nabla_w = backprop(x, y)\n",
    "\n",
    "print(type(delta_nabla_w))\n",
    "print(delta_nabla_w[0].shape)\n"
   ]
  }
 ],
 "metadata": {
  "kernelspec": {
   "display_name": "Python [conda env:py27]",
   "language": "python",
   "name": "conda-env-py27-py"
  },
  "language_info": {
   "codemirror_mode": {
    "name": "ipython",
    "version": 2
   },
   "file_extension": ".py",
   "mimetype": "text/x-python",
   "name": "python",
   "nbconvert_exporter": "python",
   "pygments_lexer": "ipython2",
   "version": "2.7.14"
  }
 },
 "nbformat": 4,
 "nbformat_minor": 2
}
