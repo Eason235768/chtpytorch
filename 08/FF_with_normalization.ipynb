{
 "cells": [
  {
   "cell_type": "markdown",
   "metadata": {},
   "source": [
    "## Import PyTorch"
   ]
  },
  {
   "cell_type": "code",
   "execution_count": 108,
   "metadata": {},
   "outputs": [
    {
     "name": "stdout",
     "output_type": "stream",
     "text": [
      "Populating the interactive namespace from numpy and matplotlib\n"
     ]
    }
   ],
   "source": [
    "%pylab inline\n",
    "import torch\n",
    "import torch.nn as nn\n",
    "import torchvision.datasets as dsets\n",
    "import torchvision.transforms as transforms"
   ]
  },
  {
   "cell_type": "markdown",
   "metadata": {},
   "source": [
    "## Initialize Hyper-parameters"
   ]
  },
  {
   "cell_type": "code",
   "execution_count": 109,
   "metadata": {},
   "outputs": [],
   "source": [
    "input_size = 784       # The image size = 28 x 28 = 784\n",
    "hidden_size = 500      # The number of nodes at the hidden layer\n",
    "num_classes = 10       # The number of output classes. In this case, from 0 to 9\n",
    "num_epochs = 5         # The number of times entire dataset is trained\n",
    "batch_size = 100       # The size of input data took for one iteration\n",
    "learning_rate = 0.001  # The speed of convergence"
   ]
  },
  {
   "cell_type": "markdown",
   "metadata": {},
   "source": [
    "## Download MNIST Dataset"
   ]
  },
  {
   "cell_type": "code",
   "execution_count": 110,
   "metadata": {},
   "outputs": [],
   "source": [
    "transform = transforms.Compose([transforms.ToTensor(),transforms.Normalize((0.1307,), (0.3081,))])\n",
    "train_dataset = dsets.MNIST(root='./data',\n",
    "                           train=True,\n",
    "                           transform=transform,\n",
    "                           download=True)\n",
    "\n",
    "test_dataset = dsets.MNIST(root='./data',\n",
    "                           train=False,\n",
    "                           transform=transform)"
   ]
  },
  {
   "cell_type": "code",
   "execution_count": 111,
   "metadata": {},
   "outputs": [
    {
     "data": {
      "text/plain": [
       "(tensor([[[-0.4242, -0.4242, -0.4242, -0.4242, -0.4242, -0.4242, -0.4242,\n",
       "           -0.4242, -0.4242, -0.4242, -0.4242, -0.4242, -0.4242, -0.4242,\n",
       "           -0.4242, -0.4242, -0.4242, -0.4242, -0.4242, -0.4242, -0.4242,\n",
       "           -0.4242, -0.4242, -0.4242, -0.4242, -0.4242, -0.4242, -0.4242],\n",
       "          [-0.4242, -0.4242, -0.4242, -0.4242, -0.4242, -0.4242, -0.4242,\n",
       "           -0.4242, -0.4242, -0.4242, -0.4242, -0.4242, -0.4242, -0.4242,\n",
       "           -0.4242, -0.4242, -0.4242, -0.4242, -0.4242, -0.4242, -0.4242,\n",
       "           -0.4242, -0.4242, -0.4242, -0.4242, -0.4242, -0.4242, -0.4242],\n",
       "          [-0.4242, -0.4242, -0.4242, -0.4242, -0.4242, -0.4242, -0.4242,\n",
       "           -0.4242, -0.4242, -0.4242, -0.4242, -0.4242, -0.4242, -0.4242,\n",
       "           -0.4242, -0.4242, -0.4242, -0.4242, -0.4242, -0.4242, -0.4242,\n",
       "           -0.4242, -0.4242, -0.4242, -0.4242, -0.4242, -0.4242, -0.4242],\n",
       "          [-0.4242, -0.4242, -0.4242, -0.4242, -0.4242, -0.4242, -0.4242,\n",
       "           -0.4242, -0.4242, -0.4242, -0.4242, -0.4242, -0.4242, -0.4242,\n",
       "           -0.4242, -0.4242, -0.4242, -0.4242, -0.4242, -0.4242, -0.4242,\n",
       "           -0.4242, -0.4242, -0.4242, -0.4242, -0.4242, -0.4242, -0.4242],\n",
       "          [-0.4242, -0.4242, -0.4242, -0.4242, -0.4242, -0.4242, -0.4242,\n",
       "           -0.4242, -0.4242, -0.4242, -0.4242, -0.4242, -0.4242, -0.4242,\n",
       "           -0.4242, -0.4242, -0.4242, -0.4242, -0.4242, -0.4242, -0.4242,\n",
       "           -0.4242, -0.4242, -0.4242, -0.4242, -0.4242, -0.4242, -0.4242],\n",
       "          [-0.4242, -0.4242, -0.4242, -0.4242, -0.4242, -0.4242, -0.4242,\n",
       "           -0.4242, -0.4242, -0.4242, -0.4242, -0.4242, -0.3860, -0.1951,\n",
       "           -0.1951, -0.1951,  1.1795,  1.3068,  1.8032, -0.0933,  1.6887,\n",
       "            2.8215,  2.7197,  1.1923, -0.4242, -0.4242, -0.4242, -0.4242],\n",
       "          [-0.4242, -0.4242, -0.4242, -0.4242, -0.4242, -0.4242, -0.4242,\n",
       "           -0.4242, -0.0424,  0.0340,  0.7722,  1.5359,  1.7396,  2.7960,\n",
       "            2.7960,  2.7960,  2.7960,  2.7960,  2.4396,  1.7650,  2.7960,\n",
       "            2.6560,  2.0578,  0.3904, -0.4242, -0.4242, -0.4242, -0.4242],\n",
       "          [-0.4242, -0.4242, -0.4242, -0.4242, -0.4242, -0.4242, -0.4242,\n",
       "            0.1995,  2.6051,  2.7960,  2.7960,  2.7960,  2.7960,  2.7960,\n",
       "            2.7960,  2.7960,  2.7960,  2.7706,  0.7595,  0.6195,  0.6195,\n",
       "            0.2886,  0.0722, -0.4242, -0.4242, -0.4242, -0.4242, -0.4242],\n",
       "          [-0.4242, -0.4242, -0.4242, -0.4242, -0.4242, -0.4242, -0.4242,\n",
       "           -0.1951,  2.3633,  2.7960,  2.7960,  2.7960,  2.7960,  2.7960,\n",
       "            2.0960,  1.8923,  2.7197,  2.6433, -0.4242, -0.4242, -0.4242,\n",
       "           -0.4242, -0.4242, -0.4242, -0.4242, -0.4242, -0.4242, -0.4242],\n",
       "          [-0.4242, -0.4242, -0.4242, -0.4242, -0.4242, -0.4242, -0.4242,\n",
       "           -0.4242,  0.5940,  1.5614,  0.9377,  2.7960,  2.7960,  2.1851,\n",
       "           -0.2842, -0.4242,  0.1231,  1.5359, -0.4242, -0.4242, -0.4242,\n",
       "           -0.4242, -0.4242, -0.4242, -0.4242, -0.4242, -0.4242, -0.4242],\n",
       "          [-0.4242, -0.4242, -0.4242, -0.4242, -0.4242, -0.4242, -0.4242,\n",
       "           -0.4242, -0.4242, -0.2460, -0.4115,  1.5359,  2.7960,  0.7213,\n",
       "           -0.4242, -0.4242, -0.4242, -0.4242, -0.4242, -0.4242, -0.4242,\n",
       "           -0.4242, -0.4242, -0.4242, -0.4242, -0.4242, -0.4242, -0.4242],\n",
       "          [-0.4242, -0.4242, -0.4242, -0.4242, -0.4242, -0.4242, -0.4242,\n",
       "           -0.4242, -0.4242, -0.4242, -0.4242,  1.3450,  2.7960,  1.9942,\n",
       "           -0.3988, -0.4242, -0.4242, -0.4242, -0.4242, -0.4242, -0.4242,\n",
       "           -0.4242, -0.4242, -0.4242, -0.4242, -0.4242, -0.4242, -0.4242],\n",
       "          [-0.4242, -0.4242, -0.4242, -0.4242, -0.4242, -0.4242, -0.4242,\n",
       "           -0.4242, -0.4242, -0.4242, -0.4242, -0.2842,  1.9942,  2.7960,\n",
       "            0.4668, -0.4242, -0.4242, -0.4242, -0.4242, -0.4242, -0.4242,\n",
       "           -0.4242, -0.4242, -0.4242, -0.4242, -0.4242, -0.4242, -0.4242],\n",
       "          [-0.4242, -0.4242, -0.4242, -0.4242, -0.4242, -0.4242, -0.4242,\n",
       "           -0.4242, -0.4242, -0.4242, -0.4242, -0.4242,  0.0213,  2.6433,\n",
       "            2.4396,  1.6123,  0.9504, -0.4115, -0.4242, -0.4242, -0.4242,\n",
       "           -0.4242, -0.4242, -0.4242, -0.4242, -0.4242, -0.4242, -0.4242],\n",
       "          [-0.4242, -0.4242, -0.4242, -0.4242, -0.4242, -0.4242, -0.4242,\n",
       "           -0.4242, -0.4242, -0.4242, -0.4242, -0.4242, -0.4242,  0.6068,\n",
       "            2.6306,  2.7960,  2.7960,  1.0904, -0.1060, -0.4242, -0.4242,\n",
       "           -0.4242, -0.4242, -0.4242, -0.4242, -0.4242, -0.4242, -0.4242],\n",
       "          [-0.4242, -0.4242, -0.4242, -0.4242, -0.4242, -0.4242, -0.4242,\n",
       "           -0.4242, -0.4242, -0.4242, -0.4242, -0.4242, -0.4242, -0.4242,\n",
       "            0.1486,  1.9432,  2.7960,  2.7960,  1.4850, -0.0806, -0.4242,\n",
       "           -0.4242, -0.4242, -0.4242, -0.4242, -0.4242, -0.4242, -0.4242],\n",
       "          [-0.4242, -0.4242, -0.4242, -0.4242, -0.4242, -0.4242, -0.4242,\n",
       "           -0.4242, -0.4242, -0.4242, -0.4242, -0.4242, -0.4242, -0.4242,\n",
       "           -0.4242, -0.2206,  0.7595,  2.7833,  2.7960,  1.9560, -0.4242,\n",
       "           -0.4242, -0.4242, -0.4242, -0.4242, -0.4242, -0.4242, -0.4242],\n",
       "          [-0.4242, -0.4242, -0.4242, -0.4242, -0.4242, -0.4242, -0.4242,\n",
       "           -0.4242, -0.4242, -0.4242, -0.4242, -0.4242, -0.4242, -0.4242,\n",
       "           -0.4242, -0.4242, -0.4242,  2.7451,  2.7960,  2.7451,  0.3904,\n",
       "           -0.4242, -0.4242, -0.4242, -0.4242, -0.4242, -0.4242, -0.4242],\n",
       "          [-0.4242, -0.4242, -0.4242, -0.4242, -0.4242, -0.4242, -0.4242,\n",
       "           -0.4242, -0.4242, -0.4242, -0.4242, -0.4242, -0.4242, -0.4242,\n",
       "            0.1613,  1.2305,  1.9051,  2.7960,  2.7960,  2.2105, -0.3988,\n",
       "           -0.4242, -0.4242, -0.4242, -0.4242, -0.4242, -0.4242, -0.4242],\n",
       "          [-0.4242, -0.4242, -0.4242, -0.4242, -0.4242, -0.4242, -0.4242,\n",
       "           -0.4242, -0.4242, -0.4242, -0.4242, -0.4242,  0.0722,  1.4596,\n",
       "            2.4906,  2.7960,  2.7960,  2.7960,  2.7578,  1.8923, -0.4242,\n",
       "           -0.4242, -0.4242, -0.4242, -0.4242, -0.4242, -0.4242, -0.4242],\n",
       "          [-0.4242, -0.4242, -0.4242, -0.4242, -0.4242, -0.4242, -0.4242,\n",
       "           -0.4242, -0.4242, -0.4242, -0.1187,  1.0268,  2.3887,  2.7960,\n",
       "            2.7960,  2.7960,  2.7960,  2.1342,  0.5686, -0.4242, -0.4242,\n",
       "           -0.4242, -0.4242, -0.4242, -0.4242, -0.4242, -0.4242, -0.4242],\n",
       "          [-0.4242, -0.4242, -0.4242, -0.4242, -0.4242, -0.4242, -0.4242,\n",
       "           -0.4242, -0.1315,  0.4159,  2.2869,  2.7960,  2.7960,  2.7960,\n",
       "            2.7960,  2.0960,  0.6068, -0.3988, -0.4242, -0.4242, -0.4242,\n",
       "           -0.4242, -0.4242, -0.4242, -0.4242, -0.4242, -0.4242, -0.4242],\n",
       "          [-0.4242, -0.4242, -0.4242, -0.4242, -0.4242, -0.4242, -0.1951,\n",
       "            1.7523,  2.3633,  2.7960,  2.7960,  2.7960,  2.7960,  2.0578,\n",
       "            0.5940, -0.3097, -0.4242, -0.4242, -0.4242, -0.4242, -0.4242,\n",
       "           -0.4242, -0.4242, -0.4242, -0.4242, -0.4242, -0.4242, -0.4242],\n",
       "          [-0.4242, -0.4242, -0.4242, -0.4242,  0.2758,  1.7650,  2.4524,\n",
       "            2.7960,  2.7960,  2.7960,  2.7960,  2.6815,  1.2686, -0.2842,\n",
       "           -0.4242, -0.4242, -0.4242, -0.4242, -0.4242, -0.4242, -0.4242,\n",
       "           -0.4242, -0.4242, -0.4242, -0.4242, -0.4242, -0.4242, -0.4242],\n",
       "          [-0.4242, -0.4242, -0.4242, -0.4242,  1.3068,  2.7960,  2.7960,\n",
       "            2.7960,  2.2742,  1.2941,  1.2559, -0.2206, -0.4242, -0.4242,\n",
       "           -0.4242, -0.4242, -0.4242, -0.4242, -0.4242, -0.4242, -0.4242,\n",
       "           -0.4242, -0.4242, -0.4242, -0.4242, -0.4242, -0.4242, -0.4242],\n",
       "          [-0.4242, -0.4242, -0.4242, -0.4242, -0.4242, -0.4242, -0.4242,\n",
       "           -0.4242, -0.4242, -0.4242, -0.4242, -0.4242, -0.4242, -0.4242,\n",
       "           -0.4242, -0.4242, -0.4242, -0.4242, -0.4242, -0.4242, -0.4242,\n",
       "           -0.4242, -0.4242, -0.4242, -0.4242, -0.4242, -0.4242, -0.4242],\n",
       "          [-0.4242, -0.4242, -0.4242, -0.4242, -0.4242, -0.4242, -0.4242,\n",
       "           -0.4242, -0.4242, -0.4242, -0.4242, -0.4242, -0.4242, -0.4242,\n",
       "           -0.4242, -0.4242, -0.4242, -0.4242, -0.4242, -0.4242, -0.4242,\n",
       "           -0.4242, -0.4242, -0.4242, -0.4242, -0.4242, -0.4242, -0.4242],\n",
       "          [-0.4242, -0.4242, -0.4242, -0.4242, -0.4242, -0.4242, -0.4242,\n",
       "           -0.4242, -0.4242, -0.4242, -0.4242, -0.4242, -0.4242, -0.4242,\n",
       "           -0.4242, -0.4242, -0.4242, -0.4242, -0.4242, -0.4242, -0.4242,\n",
       "           -0.4242, -0.4242, -0.4242, -0.4242, -0.4242, -0.4242, -0.4242]]]),\n",
       " tensor(5))"
      ]
     },
     "execution_count": 111,
     "metadata": {},
     "output_type": "execute_result"
    }
   ],
   "source": [
    "train_dataset[0]"
   ]
  },
  {
   "cell_type": "markdown",
   "metadata": {},
   "source": [
    "## Load the Dataset"
   ]
  },
  {
   "cell_type": "markdown",
   "metadata": {},
   "source": [
    "We shuffle the loading process of train_dataset to make the learning process independent of data orderness, but the order of test_loader remains to examine whether we can handle unspecified bias order of inputs."
   ]
  },
  {
   "cell_type": "code",
   "execution_count": 112,
   "metadata": {},
   "outputs": [],
   "source": [
    "train_loader = torch.utils.data.DataLoader(dataset=train_dataset,\n",
    "                                          batch_size=batch_size,\n",
    "                                          shuffle=True)\n",
    "\n",
    "test_loader = torch.utils.data.DataLoader(dataset=test_dataset,\n",
    "                                          batch_size=batch_size,\n",
    "                                          shuffle=False)"
   ]
  },
  {
   "cell_type": "markdown",
   "metadata": {},
   "source": [
    "## Feedforward Neural Network Model Structure"
   ]
  },
  {
   "cell_type": "code",
   "execution_count": 113,
   "metadata": {},
   "outputs": [],
   "source": [
    "class Net(nn.Module):\n",
    "    def __init__(self, input_size, hidden_size, num_classes):\n",
    "        super(Net, self).__init__()                    # Inherited from the parent class nn.Module\n",
    "        self.fc1 = nn.Linear(input_size, hidden_size)  # 1st Full-Connected Layer: 784 (input data) -> 500 (hidden node)\n",
    "        self.relu = nn.ReLU()                          # Non-Linear ReLU Layer: max(0,x)\n",
    "        self.fc2 = nn.Linear(hidden_size, num_classes) # 2nd Full-Connected Layer: 500 (hidden node) -> 10 (output class)\n",
    "    \n",
    "    def forward(self, x):                              # Forward pass: stacking each layer together\n",
    "        out = self.fc1(x)\n",
    "        out = self.relu(out)\n",
    "        out = self.fc2(out)\n",
    "        return out"
   ]
  },
  {
   "cell_type": "markdown",
   "metadata": {},
   "source": [
    "## Instantiate the FNN"
   ]
  },
  {
   "cell_type": "code",
   "execution_count": 130,
   "metadata": {},
   "outputs": [],
   "source": [
    "net = Net(input_size, hidden_size, num_classes)"
   ]
  },
  {
   "cell_type": "code",
   "execution_count": 135,
   "metadata": {},
   "outputs": [
    {
     "name": "stdout",
     "output_type": "stream",
     "text": [
      "Parameter containing:\n",
      "tensor([[-0.0077, -0.0129, -0.0203,  ..., -0.0071,  0.0048, -0.0113],\n",
      "        [ 0.0221,  0.0278, -0.0158,  ..., -0.0030, -0.0351,  0.0140],\n",
      "        [-0.0031, -0.0132, -0.0318,  ...,  0.0301,  0.0068,  0.0027],\n",
      "        ...,\n",
      "        [-0.0138, -0.0271,  0.0112,  ...,  0.0178, -0.0179, -0.0045],\n",
      "        [ 0.0075, -0.0049, -0.0309,  ..., -0.0153, -0.0017,  0.0258],\n",
      "        [-0.0199, -0.0189,  0.0356,  ...,  0.0145, -0.0321,  0.0105]],\n",
      "       requires_grad=True)\n",
      "Parameter containing:\n",
      "tensor([-0.0197,  0.0056,  0.0133,  0.0271, -0.0103,  0.0226,  0.0043,  0.0167,\n",
      "         0.0245, -0.0119,  0.0138, -0.0346,  0.0303, -0.0024,  0.0020,  0.0345,\n",
      "         0.0302, -0.0020, -0.0247,  0.0289,  0.0246,  0.0018,  0.0145, -0.0038,\n",
      "        -0.0336, -0.0269,  0.0186,  0.0357, -0.0038,  0.0312, -0.0349,  0.0294,\n",
      "         0.0194,  0.0242, -0.0019, -0.0251, -0.0331,  0.0058,  0.0257, -0.0345,\n",
      "        -0.0111, -0.0028, -0.0177, -0.0305,  0.0335,  0.0085,  0.0033,  0.0220,\n",
      "         0.0290,  0.0353, -0.0191,  0.0158, -0.0304,  0.0334, -0.0184,  0.0216,\n",
      "        -0.0195, -0.0072,  0.0323,  0.0287,  0.0107, -0.0029, -0.0016, -0.0038,\n",
      "         0.0147, -0.0296, -0.0194,  0.0061,  0.0309, -0.0073, -0.0110, -0.0211,\n",
      "         0.0083, -0.0039, -0.0309,  0.0310, -0.0289,  0.0033, -0.0310, -0.0046,\n",
      "         0.0040, -0.0355, -0.0284,  0.0044, -0.0029, -0.0173,  0.0079,  0.0283,\n",
      "         0.0064,  0.0072,  0.0151, -0.0257, -0.0079,  0.0172, -0.0188,  0.0034,\n",
      "         0.0226,  0.0000, -0.0338, -0.0236,  0.0297,  0.0274, -0.0092, -0.0145,\n",
      "        -0.0250, -0.0240,  0.0312, -0.0257, -0.0043,  0.0182, -0.0357, -0.0274,\n",
      "        -0.0185, -0.0141,  0.0149, -0.0160, -0.0212, -0.0031, -0.0326, -0.0326,\n",
      "         0.0076, -0.0249,  0.0328, -0.0021, -0.0025,  0.0252, -0.0094, -0.0158,\n",
      "         0.0265, -0.0348, -0.0132,  0.0190, -0.0057, -0.0153, -0.0217, -0.0251,\n",
      "         0.0272,  0.0253, -0.0226,  0.0293, -0.0014,  0.0280, -0.0074,  0.0096,\n",
      "        -0.0135,  0.0168,  0.0053, -0.0090, -0.0251,  0.0108,  0.0282, -0.0050,\n",
      "         0.0098, -0.0277,  0.0274, -0.0066,  0.0183,  0.0056,  0.0276, -0.0080,\n",
      "        -0.0004,  0.0139,  0.0344, -0.0211, -0.0240, -0.0142,  0.0048,  0.0248,\n",
      "        -0.0267,  0.0179, -0.0198,  0.0269,  0.0120, -0.0336, -0.0050, -0.0071,\n",
      "        -0.0050, -0.0015, -0.0286, -0.0330, -0.0222, -0.0301,  0.0271, -0.0002,\n",
      "        -0.0098,  0.0121,  0.0081, -0.0020,  0.0236,  0.0100,  0.0101,  0.0264,\n",
      "        -0.0349, -0.0064, -0.0148, -0.0244, -0.0001, -0.0209, -0.0032,  0.0072,\n",
      "        -0.0220, -0.0000, -0.0177, -0.0149, -0.0295,  0.0057,  0.0180, -0.0022,\n",
      "        -0.0176, -0.0014,  0.0014, -0.0288, -0.0136, -0.0238,  0.0284, -0.0252,\n",
      "         0.0142, -0.0104, -0.0169,  0.0169,  0.0203,  0.0242, -0.0274,  0.0087,\n",
      "         0.0071, -0.0354, -0.0106,  0.0178, -0.0070,  0.0104,  0.0252, -0.0194,\n",
      "        -0.0047, -0.0220,  0.0188, -0.0060, -0.0006,  0.0284, -0.0121, -0.0155,\n",
      "         0.0228, -0.0204, -0.0326, -0.0278, -0.0228, -0.0205,  0.0259, -0.0350,\n",
      "         0.0332, -0.0156, -0.0089,  0.0266,  0.0116,  0.0089, -0.0079,  0.0119,\n",
      "        -0.0067,  0.0179,  0.0305, -0.0331,  0.0048,  0.0189,  0.0260, -0.0196,\n",
      "        -0.0225,  0.0206, -0.0191, -0.0260, -0.0163, -0.0236, -0.0280,  0.0076,\n",
      "         0.0038, -0.0291, -0.0040,  0.0149,  0.0075,  0.0241, -0.0081, -0.0136,\n",
      "         0.0106,  0.0086, -0.0297,  0.0025,  0.0273,  0.0325,  0.0049,  0.0111,\n",
      "         0.0014,  0.0110, -0.0266, -0.0100,  0.0048,  0.0239, -0.0237,  0.0011,\n",
      "         0.0222,  0.0253,  0.0122, -0.0350,  0.0186,  0.0223,  0.0118, -0.0276,\n",
      "         0.0346, -0.0258,  0.0276,  0.0313, -0.0180, -0.0323,  0.0169,  0.0304,\n",
      "        -0.0110,  0.0062,  0.0155, -0.0048,  0.0290, -0.0086,  0.0341, -0.0056,\n",
      "        -0.0109, -0.0176,  0.0199, -0.0284, -0.0304, -0.0311,  0.0343,  0.0036,\n",
      "         0.0253,  0.0177,  0.0332,  0.0106, -0.0090, -0.0347,  0.0153,  0.0342,\n",
      "         0.0021,  0.0244, -0.0041,  0.0311, -0.0204,  0.0174, -0.0344, -0.0040,\n",
      "        -0.0126,  0.0230, -0.0224, -0.0088, -0.0073, -0.0072,  0.0307,  0.0028,\n",
      "         0.0208,  0.0327,  0.0141, -0.0327,  0.0211,  0.0292,  0.0105,  0.0193,\n",
      "        -0.0190, -0.0081, -0.0100,  0.0224, -0.0143, -0.0164, -0.0337, -0.0101,\n",
      "        -0.0006,  0.0108,  0.0208, -0.0143,  0.0184, -0.0100, -0.0079, -0.0175,\n",
      "         0.0257, -0.0079,  0.0005,  0.0068, -0.0288,  0.0159, -0.0023, -0.0139,\n",
      "         0.0085, -0.0349,  0.0063,  0.0353, -0.0144,  0.0326,  0.0073, -0.0071,\n",
      "        -0.0017, -0.0113, -0.0308, -0.0255,  0.0168, -0.0123, -0.0145, -0.0287,\n",
      "         0.0341, -0.0009, -0.0033,  0.0091, -0.0089,  0.0195, -0.0110, -0.0087,\n",
      "        -0.0106,  0.0073,  0.0013, -0.0003,  0.0200, -0.0133, -0.0140, -0.0283,\n",
      "        -0.0143, -0.0068, -0.0284, -0.0125,  0.0283, -0.0221, -0.0037,  0.0261,\n",
      "         0.0119,  0.0132,  0.0308, -0.0114,  0.0192, -0.0120,  0.0195,  0.0333,\n",
      "        -0.0229,  0.0045,  0.0230, -0.0127,  0.0028, -0.0292, -0.0092,  0.0162,\n",
      "         0.0115,  0.0229,  0.0143, -0.0024, -0.0192,  0.0141, -0.0296,  0.0012,\n",
      "         0.0153,  0.0114, -0.0100,  0.0010, -0.0096,  0.0187, -0.0129, -0.0351,\n",
      "        -0.0236, -0.0287, -0.0264,  0.0144, -0.0303, -0.0319, -0.0002,  0.0151,\n",
      "         0.0175,  0.0181, -0.0307, -0.0087, -0.0055, -0.0004,  0.0309, -0.0301,\n",
      "        -0.0003,  0.0241,  0.0201, -0.0187, -0.0280,  0.0040,  0.0090,  0.0133,\n",
      "        -0.0282, -0.0045, -0.0160,  0.0269, -0.0084,  0.0057,  0.0078,  0.0012,\n",
      "         0.0342,  0.0140, -0.0156, -0.0127, -0.0047,  0.0034, -0.0071, -0.0110,\n",
      "         0.0037,  0.0173,  0.0328,  0.0032], requires_grad=True)\n",
      "Parameter containing:\n",
      "tensor([[ 0.0271,  0.0284, -0.0141,  ..., -0.0103, -0.0400,  0.0150],\n",
      "        [-0.0226, -0.0088,  0.0014,  ..., -0.0299,  0.0344, -0.0305],\n",
      "        [ 0.0343,  0.0123,  0.0202,  ..., -0.0394, -0.0212,  0.0013],\n",
      "        ...,\n",
      "        [ 0.0067,  0.0027,  0.0411,  ..., -0.0259, -0.0367,  0.0003],\n",
      "        [ 0.0151, -0.0433,  0.0150,  ..., -0.0145, -0.0309,  0.0167],\n",
      "        [-0.0281, -0.0175,  0.0228,  ..., -0.0294,  0.0272, -0.0202]],\n",
      "       requires_grad=True)\n",
      "Parameter containing:\n",
      "tensor([ 0.0310, -0.0071, -0.0242,  0.0170, -0.0159, -0.0210,  0.0166, -0.0075,\n",
      "        -0.0367, -0.0234], requires_grad=True)\n"
     ]
    }
   ],
   "source": [
    "a=net.parameters()\n",
    "for i in a:\n",
    "    print(i)"
   ]
  },
  {
   "cell_type": "markdown",
   "metadata": {},
   "source": [
    "## Choose the Loss Function and Optimizer"
   ]
  },
  {
   "cell_type": "code",
   "execution_count": 86,
   "metadata": {},
   "outputs": [],
   "source": [
    "criterion = nn.CrossEntropyLoss()\n",
    "optimizer = torch.optim.Adam(net.parameters(), lr=learning_rate)"
   ]
  },
  {
   "cell_type": "code",
   "execution_count": 137,
   "metadata": {},
   "outputs": [
    {
     "name": "stdout",
     "output_type": "stream",
     "text": [
      "Parameter containing:\n",
      "tensor([[-0.0077, -0.0129, -0.0203,  ..., -0.0071,  0.0048, -0.0113],\n",
      "        [ 0.0221,  0.0278, -0.0158,  ..., -0.0030, -0.0351,  0.0140],\n",
      "        [-0.0031, -0.0132, -0.0318,  ...,  0.0301,  0.0068,  0.0027],\n",
      "        ...,\n",
      "        [-0.0138, -0.0271,  0.0112,  ...,  0.0178, -0.0179, -0.0045],\n",
      "        [ 0.0075, -0.0049, -0.0309,  ..., -0.0153, -0.0017,  0.0258],\n",
      "        [-0.0199, -0.0189,  0.0356,  ...,  0.0145, -0.0321,  0.0105]],\n",
      "       requires_grad=True)\n",
      "Parameter containing:\n",
      "tensor([-0.0197,  0.0056,  0.0133,  0.0271, -0.0103,  0.0226,  0.0043,  0.0167,\n",
      "         0.0245, -0.0119,  0.0138, -0.0346,  0.0303, -0.0024,  0.0020,  0.0345,\n",
      "         0.0302, -0.0020, -0.0247,  0.0289,  0.0246,  0.0018,  0.0145, -0.0038,\n",
      "        -0.0336, -0.0269,  0.0186,  0.0357, -0.0038,  0.0312, -0.0349,  0.0294,\n",
      "         0.0194,  0.0242, -0.0019, -0.0251, -0.0331,  0.0058,  0.0257, -0.0345,\n",
      "        -0.0111, -0.0028, -0.0177, -0.0305,  0.0335,  0.0085,  0.0033,  0.0220,\n",
      "         0.0290,  0.0353, -0.0191,  0.0158, -0.0304,  0.0334, -0.0184,  0.0216,\n",
      "        -0.0195, -0.0072,  0.0323,  0.0287,  0.0107, -0.0029, -0.0016, -0.0038,\n",
      "         0.0147, -0.0296, -0.0194,  0.0061,  0.0309, -0.0073, -0.0110, -0.0211,\n",
      "         0.0083, -0.0039, -0.0309,  0.0310, -0.0289,  0.0033, -0.0310, -0.0046,\n",
      "         0.0040, -0.0355, -0.0284,  0.0044, -0.0029, -0.0173,  0.0079,  0.0283,\n",
      "         0.0064,  0.0072,  0.0151, -0.0257, -0.0079,  0.0172, -0.0188,  0.0034,\n",
      "         0.0226,  0.0000, -0.0338, -0.0236,  0.0297,  0.0274, -0.0092, -0.0145,\n",
      "        -0.0250, -0.0240,  0.0312, -0.0257, -0.0043,  0.0182, -0.0357, -0.0274,\n",
      "        -0.0185, -0.0141,  0.0149, -0.0160, -0.0212, -0.0031, -0.0326, -0.0326,\n",
      "         0.0076, -0.0249,  0.0328, -0.0021, -0.0025,  0.0252, -0.0094, -0.0158,\n",
      "         0.0265, -0.0348, -0.0132,  0.0190, -0.0057, -0.0153, -0.0217, -0.0251,\n",
      "         0.0272,  0.0253, -0.0226,  0.0293, -0.0014,  0.0280, -0.0074,  0.0096,\n",
      "        -0.0135,  0.0168,  0.0053, -0.0090, -0.0251,  0.0108,  0.0282, -0.0050,\n",
      "         0.0098, -0.0277,  0.0274, -0.0066,  0.0183,  0.0056,  0.0276, -0.0080,\n",
      "        -0.0004,  0.0139,  0.0344, -0.0211, -0.0240, -0.0142,  0.0048,  0.0248,\n",
      "        -0.0267,  0.0179, -0.0198,  0.0269,  0.0120, -0.0336, -0.0050, -0.0071,\n",
      "        -0.0050, -0.0015, -0.0286, -0.0330, -0.0222, -0.0301,  0.0271, -0.0002,\n",
      "        -0.0098,  0.0121,  0.0081, -0.0020,  0.0236,  0.0100,  0.0101,  0.0264,\n",
      "        -0.0349, -0.0064, -0.0148, -0.0244, -0.0001, -0.0209, -0.0032,  0.0072,\n",
      "        -0.0220, -0.0000, -0.0177, -0.0149, -0.0295,  0.0057,  0.0180, -0.0022,\n",
      "        -0.0176, -0.0014,  0.0014, -0.0288, -0.0136, -0.0238,  0.0284, -0.0252,\n",
      "         0.0142, -0.0104, -0.0169,  0.0169,  0.0203,  0.0242, -0.0274,  0.0087,\n",
      "         0.0071, -0.0354, -0.0106,  0.0178, -0.0070,  0.0104,  0.0252, -0.0194,\n",
      "        -0.0047, -0.0220,  0.0188, -0.0060, -0.0006,  0.0284, -0.0121, -0.0155,\n",
      "         0.0228, -0.0204, -0.0326, -0.0278, -0.0228, -0.0205,  0.0259, -0.0350,\n",
      "         0.0332, -0.0156, -0.0089,  0.0266,  0.0116,  0.0089, -0.0079,  0.0119,\n",
      "        -0.0067,  0.0179,  0.0305, -0.0331,  0.0048,  0.0189,  0.0260, -0.0196,\n",
      "        -0.0225,  0.0206, -0.0191, -0.0260, -0.0163, -0.0236, -0.0280,  0.0076,\n",
      "         0.0038, -0.0291, -0.0040,  0.0149,  0.0075,  0.0241, -0.0081, -0.0136,\n",
      "         0.0106,  0.0086, -0.0297,  0.0025,  0.0273,  0.0325,  0.0049,  0.0111,\n",
      "         0.0014,  0.0110, -0.0266, -0.0100,  0.0048,  0.0239, -0.0237,  0.0011,\n",
      "         0.0222,  0.0253,  0.0122, -0.0350,  0.0186,  0.0223,  0.0118, -0.0276,\n",
      "         0.0346, -0.0258,  0.0276,  0.0313, -0.0180, -0.0323,  0.0169,  0.0304,\n",
      "        -0.0110,  0.0062,  0.0155, -0.0048,  0.0290, -0.0086,  0.0341, -0.0056,\n",
      "        -0.0109, -0.0176,  0.0199, -0.0284, -0.0304, -0.0311,  0.0343,  0.0036,\n",
      "         0.0253,  0.0177,  0.0332,  0.0106, -0.0090, -0.0347,  0.0153,  0.0342,\n",
      "         0.0021,  0.0244, -0.0041,  0.0311, -0.0204,  0.0174, -0.0344, -0.0040,\n",
      "        -0.0126,  0.0230, -0.0224, -0.0088, -0.0073, -0.0072,  0.0307,  0.0028,\n",
      "         0.0208,  0.0327,  0.0141, -0.0327,  0.0211,  0.0292,  0.0105,  0.0193,\n",
      "        -0.0190, -0.0081, -0.0100,  0.0224, -0.0143, -0.0164, -0.0337, -0.0101,\n",
      "        -0.0006,  0.0108,  0.0208, -0.0143,  0.0184, -0.0100, -0.0079, -0.0175,\n",
      "         0.0257, -0.0079,  0.0005,  0.0068, -0.0288,  0.0159, -0.0023, -0.0139,\n",
      "         0.0085, -0.0349,  0.0063,  0.0353, -0.0144,  0.0326,  0.0073, -0.0071,\n",
      "        -0.0017, -0.0113, -0.0308, -0.0255,  0.0168, -0.0123, -0.0145, -0.0287,\n",
      "         0.0341, -0.0009, -0.0033,  0.0091, -0.0089,  0.0195, -0.0110, -0.0087,\n",
      "        -0.0106,  0.0073,  0.0013, -0.0003,  0.0200, -0.0133, -0.0140, -0.0283,\n",
      "        -0.0143, -0.0068, -0.0284, -0.0125,  0.0283, -0.0221, -0.0037,  0.0261,\n",
      "         0.0119,  0.0132,  0.0308, -0.0114,  0.0192, -0.0120,  0.0195,  0.0333,\n",
      "        -0.0229,  0.0045,  0.0230, -0.0127,  0.0028, -0.0292, -0.0092,  0.0162,\n",
      "         0.0115,  0.0229,  0.0143, -0.0024, -0.0192,  0.0141, -0.0296,  0.0012,\n",
      "         0.0153,  0.0114, -0.0100,  0.0010, -0.0096,  0.0187, -0.0129, -0.0351,\n",
      "        -0.0236, -0.0287, -0.0264,  0.0144, -0.0303, -0.0319, -0.0002,  0.0151,\n",
      "         0.0175,  0.0181, -0.0307, -0.0087, -0.0055, -0.0004,  0.0309, -0.0301,\n",
      "        -0.0003,  0.0241,  0.0201, -0.0187, -0.0280,  0.0040,  0.0090,  0.0133,\n",
      "        -0.0282, -0.0045, -0.0160,  0.0269, -0.0084,  0.0057,  0.0078,  0.0012,\n",
      "         0.0342,  0.0140, -0.0156, -0.0127, -0.0047,  0.0034, -0.0071, -0.0110,\n",
      "         0.0037,  0.0173,  0.0328,  0.0032], requires_grad=True)\n",
      "Parameter containing:\n",
      "tensor([[ 0.0271,  0.0284, -0.0141,  ..., -0.0103, -0.0400,  0.0150],\n",
      "        [-0.0226, -0.0088,  0.0014,  ..., -0.0299,  0.0344, -0.0305],\n",
      "        [ 0.0343,  0.0123,  0.0202,  ..., -0.0394, -0.0212,  0.0013],\n",
      "        ...,\n",
      "        [ 0.0067,  0.0027,  0.0411,  ..., -0.0259, -0.0367,  0.0003],\n",
      "        [ 0.0151, -0.0433,  0.0150,  ..., -0.0145, -0.0309,  0.0167],\n",
      "        [-0.0281, -0.0175,  0.0228,  ..., -0.0294,  0.0272, -0.0202]],\n",
      "       requires_grad=True)\n",
      "Parameter containing:\n",
      "tensor([ 0.0310, -0.0071, -0.0242,  0.0170, -0.0159, -0.0210,  0.0166, -0.0075,\n",
      "        -0.0367, -0.0234], requires_grad=True)\n"
     ]
    }
   ],
   "source": [
    "for i in net.parameters():\n",
    "    print(i)\n"
   ]
  },
  {
   "cell_type": "markdown",
   "metadata": {},
   "source": [
    "## Train the FNN Model"
   ]
  },
  {
   "cell_type": "code",
   "execution_count": 87,
   "metadata": {},
   "outputs": [
    {
     "name": "stderr",
     "output_type": "stream",
     "text": [
      "/home/joshhu/anaconda3/envs/pytorch/lib/python3.6/site-packages/ipykernel/__main__.py:10: UserWarning: invalid index of a 0-dim tensor. This will be an error in PyTorch 0.5. Use tensor.item() to convert a 0-dim tensor to a Python number\n",
      "/home/joshhu/anaconda3/envs/pytorch/lib/python3.6/site-packages/ipykernel/__main__.py:16: UserWarning: invalid index of a 0-dim tensor. This will be an error in PyTorch 0.5. Use tensor.item() to convert a 0-dim tensor to a Python number\n"
     ]
    },
    {
     "name": "stdout",
     "output_type": "stream",
     "text": [
      "Epoch [1/5], Step [100/600], Loss: 0.0364\n",
      "Epoch [1/5], Step [200/600], Loss: 0.0502\n",
      "Epoch [1/5], Step [300/600], Loss: 0.1098\n",
      "Epoch [1/5], Step [400/600], Loss: 0.0170\n",
      "Epoch [1/5], Step [500/600], Loss: 0.0110\n",
      "Epoch [1/5], Step [600/600], Loss: 0.0102\n",
      "Epoch [2/5], Step [100/600], Loss: 0.0193\n",
      "Epoch [2/5], Step [200/600], Loss: 0.0629\n",
      "Epoch [2/5], Step [300/600], Loss: 0.0188\n",
      "Epoch [2/5], Step [400/600], Loss: 0.1702\n",
      "Epoch [2/5], Step [500/600], Loss: 0.0034\n",
      "Epoch [2/5], Step [600/600], Loss: 0.0045\n",
      "Epoch [3/5], Step [100/600], Loss: 0.0423\n",
      "Epoch [3/5], Step [200/600], Loss: 0.0601\n",
      "Epoch [3/5], Step [300/600], Loss: 0.0283\n",
      "Epoch [3/5], Step [400/600], Loss: 0.0081\n",
      "Epoch [3/5], Step [500/600], Loss: 0.0072\n",
      "Epoch [3/5], Step [600/600], Loss: 0.0010\n",
      "Epoch [4/5], Step [100/600], Loss: 0.0026\n",
      "Epoch [4/5], Step [200/600], Loss: 0.0126\n",
      "Epoch [4/5], Step [300/600], Loss: 0.0226\n",
      "Epoch [4/5], Step [400/600], Loss: 0.0062\n",
      "Epoch [4/5], Step [500/600], Loss: 0.0244\n",
      "Epoch [4/5], Step [600/600], Loss: 0.0182\n",
      "Epoch [5/5], Step [100/600], Loss: 0.0017\n",
      "Epoch [5/5], Step [200/600], Loss: 0.0073\n",
      "Epoch [5/5], Step [300/600], Loss: 0.0014\n",
      "Epoch [5/5], Step [400/600], Loss: 0.0025\n",
      "Epoch [5/5], Step [500/600], Loss: 0.0140\n",
      "Epoch [5/5], Step [600/600], Loss: 0.0166\n"
     ]
    }
   ],
   "source": [
    "losses = []\n",
    "for epoch in range(num_epochs):\n",
    "    for i, (images, labels) in enumerate(train_loader):   # Load a batch of images with its (index, data, class)\n",
    "        images = torch.FloatTensor(images.view(-1, 28*28))         # Convert torch tensor to Variable: change image from a vector of size 784 to a matrix of 28 x 28\n",
    "        labels = torch.LongTensor(labels)\n",
    "        \n",
    "        optimizer.zero_grad()                             # Intialize the hidden weight to all zeros\n",
    "        outputs = net(images)                             # Forward pass: compute the output class given a image\n",
    "        loss = criterion(outputs, labels)                 # Compute the loss: difference between the output class and the pre-given label\n",
    "        losses.append(loss.data[0])\n",
    "        loss.backward()                                   # Backward pass: compute the weight\n",
    "        optimizer.step()                                  # Optimizer: update the weights of hidden nodes\n",
    "        \n",
    "        if (i+1) % 100 == 0:                              # Logging\n",
    "            print('Epoch [%d/%d], Step [%d/%d], Loss: %.4f'\n",
    "                 %(epoch+1, num_epochs, i+1, len(train_dataset)//batch_size, loss.data[0]))"
   ]
  },
  {
   "cell_type": "markdown",
   "metadata": {},
   "source": [
    "## Test the FNN Model"
   ]
  },
  {
   "cell_type": "markdown",
   "metadata": {},
   "source": [
    "Similar to training the nerual network, we also need to load batches of test images and collect the outputs. The differences are that:\n",
    "(1) No loss & weights calculation\n",
    "(2) No wights update\n",
    "(3) Has correct prediction calculation"
   ]
  },
  {
   "cell_type": "code",
   "execution_count": 88,
   "metadata": {},
   "outputs": [
    {
     "name": "stdout",
     "output_type": "stream",
     "text": [
      "Accuracy of the network on the 10K test images: 98 %\n"
     ]
    }
   ],
   "source": [
    "correct = 0\n",
    "total = 0\n",
    "for images, labels in test_loader:\n",
    "    images = torch.FloatTensor(images.view(-1, 28*28))\n",
    "    outputs = net(images)\n",
    "    _, predicted = torch.max(outputs.data, 1)  # Choose the best class from the output: The class with the best score\n",
    "    total += labels.size(0)                    # Increment the total count\n",
    "    correct += (predicted == labels).sum()     # Increment the correct count\n",
    "    \n",
    "print('Accuracy of the network on the 10K test images: %d %%' % (100 * correct / total))"
   ]
  },
  {
   "cell_type": "markdown",
   "metadata": {},
   "source": [
    "## Save the trained FNN Model for future use"
   ]
  },
  {
   "cell_type": "code",
   "execution_count": 67,
   "metadata": {},
   "outputs": [],
   "source": [
    "# Save the model\n",
    "torch.save(net.state_dict(), 'fnn_model.pkl')"
   ]
  },
  {
   "cell_type": "code",
   "execution_count": 89,
   "metadata": {},
   "outputs": [
    {
     "data": {
      "text/plain": [
       "[<matplotlib.lines.Line2D at 0x7efe4a736390>]"
      ]
     },
     "execution_count": 89,
     "metadata": {},
     "output_type": "execute_result"
    },
    {
     "data": {
      "image/png": "[encoded data removed]",
      "text/plain": [
       "<Figure size 432x288 with 1 Axes>"
      ]
     },
     "metadata": {},
     "output_type": "display_data"
    }
   ],
   "source": [
    "plot(losses)"
   ]
  }
 ],
 "metadata": {
  "kernelspec": {
   "display_name": "Python [default]",
   "language": "python",
   "name": "python3"
  },
  "language_info": {
   "codemirror_mode": {
    "name": "ipython",
    "version": 3
   },
   "file_extension": ".py",
   "mimetype": "text/x-python",
   "name": "python",
   "nbconvert_exporter": "python",
   "pygments_lexer": "ipython3",
   "version": "3.6.5"
  }
 },
 "nbformat": 4,
 "nbformat_minor": 2
}
