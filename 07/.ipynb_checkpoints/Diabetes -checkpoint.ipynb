{
 "cells": [
  {
   "cell_type": "code",
   "execution_count": 1,
   "metadata": {},
   "outputs": [],
   "source": [
    "import torch\n",
    "import numpy as np"
   ]
  },
  {
   "cell_type": "code",
   "execution_count": 6,
   "metadata": {},
   "outputs": [
    {
     "name": "stdout",
     "output_type": "stream",
     "text": [
      "torch.Size([759, 8])\n",
      "torch.Size([759, 1])\n",
      "tensor([-0.2941,  0.4874,  0.1803, -0.2929,  0.0000,  0.0015, -0.5312, -0.0333])\n"
     ]
    }
   ],
   "source": [
    "xy = np.loadtxt('../data/diabetes.csv.gz', delimiter=',', dtype=np.float32)\n",
    "x_data = torch.from_numpy(xy[:, 0:-1])\n",
    "y_data = torch.from_numpy(xy[:, [-1]])\n",
    "\n",
    "print(x_data.data.shape)\n",
    "print(y_data.data.shape)\n",
    "\n",
    "print(x_data[0])\n"
   ]
  },
  {
   "cell_type": "code",
   "execution_count": 7,
   "metadata": {},
   "outputs": [],
   "source": [
    "class Model(torch.nn.Module):\n",
    "\n",
    "    def __init__(self):\n",
    "        \"\"\"\n",
    "        In the constructor we instantiate two nn.Linear module\n",
    "        \"\"\"\n",
    "        super(Model, self).__init__()\n",
    "        self.l1 = torch.nn.Linear(8, 6)\n",
    "        self.l2 = torch.nn.Linear(6, 4)\n",
    "        self.l3 = torch.nn.Linear(4, 1)\n",
    "\n",
    "        self.sigmoid = torch.nn.Sigmoid()\n",
    "\n",
    "    def forward(self, x):\n",
    "        \"\"\"\n",
    "        In the forward function we accept a Variable of input data and we must return\n",
    "        a Variable of output data. We can use Modules defined in the constructor as\n",
    "        well as arbitrary operators on Variables.\n",
    "        \"\"\"\n",
    "        out1 = self.sigmoid(self.l1(x))\n",
    "        out2 = self.sigmoid(self.l2(out1))\n",
    "        y_pred = self.sigmoid(self.l3(out2))\n",
    "        return y_pred\n",
    "\n",
    "# our model\n",
    "model = Model()\n"
   ]
  },
  {
   "cell_type": "code",
   "execution_count": 10,
   "metadata": {},
   "outputs": [
    {
     "name": "stderr",
     "output_type": "stream",
     "text": [
      "/home/joshhu/anaconda3/envs/pytorch/lib/python3.6/site-packages/torch/nn/functional.py:52: UserWarning: size_average and reduce args will be deprecated, please use reduction='elementwise_mean' instead.\n",
      "  warnings.warn(warning.format(ret))\n"
     ]
    }
   ],
   "source": [
    "\n",
    "\n",
    "# Construct our loss function and an Optimizer. The call to model.parameters()\n",
    "# in the SGD constructor will contain the learnable parameters of the two\n",
    "# nn.Linear modules which are members of the model.\n",
    "criterion = torch.nn.BCELoss(size_average=True)\n",
    "optimizer = torch.optim.Adam(model.parameters(), lr=0.1)\n"
   ]
  },
  {
   "cell_type": "code",
   "execution_count": 11,
   "metadata": {},
   "outputs": [
    {
     "name": "stdout",
     "output_type": "stream",
     "text": [
      "0 tensor(0.6448)\n",
      "1 tensor(0.6478)\n",
      "2 tensor(0.6421)\n",
      "3 tensor(0.6432)\n",
      "4 tensor(0.6370)\n",
      "5 tensor(0.6319)\n",
      "6 tensor(0.6291)\n",
      "7 tensor(0.6236)\n",
      "8 tensor(0.6147)\n",
      "9 tensor(0.6048)\n",
      "10 tensor(0.5950)\n",
      "11 tensor(0.5836)\n",
      "12 tensor(0.5698)\n",
      "13 tensor(0.5556)\n",
      "14 tensor(0.5432)\n",
      "15 tensor(0.5312)\n",
      "16 tensor(0.5197)\n",
      "17 tensor(0.5104)\n",
      "18 tensor(0.5022)\n",
      "19 tensor(0.4937)\n",
      "20 tensor(0.4867)\n",
      "21 tensor(0.4813)\n",
      "22 tensor(0.4769)\n",
      "23 tensor(0.4758)\n",
      "24 tensor(0.4756)\n",
      "25 tensor(0.4772)\n",
      "26 tensor(0.4781)\n",
      "27 tensor(0.4782)\n",
      "28 tensor(0.4770)\n",
      "29 tensor(0.4747)\n",
      "30 tensor(0.4725)\n",
      "31 tensor(0.4700)\n",
      "32 tensor(0.4685)\n",
      "33 tensor(0.4674)\n",
      "34 tensor(0.4672)\n",
      "35 tensor(0.4675)\n",
      "36 tensor(0.4679)\n",
      "37 tensor(0.4685)\n",
      "38 tensor(0.4685)\n",
      "39 tensor(0.4681)\n",
      "40 tensor(0.4672)\n",
      "41 tensor(0.4660)\n",
      "42 tensor(0.4650)\n",
      "43 tensor(0.4640)\n",
      "44 tensor(0.4633)\n",
      "45 tensor(0.4627)\n",
      "46 tensor(0.4623)\n",
      "47 tensor(0.4620)\n",
      "48 tensor(0.4618)\n",
      "49 tensor(0.4617)\n",
      "50 tensor(0.4616)\n",
      "51 tensor(0.4615)\n",
      "52 tensor(0.4612)\n",
      "53 tensor(0.4609)\n",
      "54 tensor(0.4605)\n",
      "55 tensor(0.4601)\n",
      "56 tensor(0.4597)\n",
      "57 tensor(0.4593)\n",
      "58 tensor(0.4590)\n",
      "59 tensor(0.4587)\n",
      "60 tensor(0.4583)\n",
      "61 tensor(0.4579)\n",
      "62 tensor(0.4575)\n",
      "63 tensor(0.4572)\n",
      "64 tensor(0.4567)\n",
      "65 tensor(0.4563)\n",
      "66 tensor(0.4559)\n",
      "67 tensor(0.4555)\n",
      "68 tensor(0.4551)\n",
      "69 tensor(0.4547)\n",
      "70 tensor(0.4542)\n",
      "71 tensor(0.4537)\n",
      "72 tensor(0.4532)\n",
      "73 tensor(0.4525)\n",
      "74 tensor(0.4518)\n",
      "75 tensor(0.4510)\n",
      "76 tensor(0.4501)\n",
      "77 tensor(0.4492)\n",
      "78 tensor(0.4482)\n",
      "79 tensor(0.4471)\n",
      "80 tensor(0.4459)\n",
      "81 tensor(0.4446)\n",
      "82 tensor(0.4433)\n",
      "83 tensor(0.4419)\n",
      "84 tensor(0.4404)\n",
      "85 tensor(0.4388)\n",
      "86 tensor(0.4373)\n",
      "87 tensor(0.4358)\n",
      "88 tensor(0.4343)\n",
      "89 tensor(0.4329)\n",
      "90 tensor(0.4315)\n",
      "91 tensor(0.4302)\n",
      "92 tensor(0.4289)\n",
      "93 tensor(0.4276)\n",
      "94 tensor(0.4265)\n",
      "95 tensor(0.4254)\n",
      "96 tensor(0.4245)\n",
      "97 tensor(0.4237)\n",
      "98 tensor(0.4231)\n",
      "99 tensor(0.4225)\n"
     ]
    },
    {
     "name": "stderr",
     "output_type": "stream",
     "text": [
      "/home/joshhu/anaconda3/envs/pytorch/lib/python3.6/site-packages/ipykernel/__main__.py:9: UserWarning: invalid index of a 0-dim tensor. This will be an error in PyTorch 0.5. Use tensor.item() to convert a 0-dim tensor to a Python number\n"
     ]
    }
   ],
   "source": [
    "\n",
    "# Training loop\n",
    "for epoch in range(100):\n",
    "        # Forward pass: Compute predicted y by passing x to the model\n",
    "    y_pred = model(x_data)\n",
    "\n",
    "    # Compute and print loss\n",
    "    loss = criterion(y_pred, y_data)\n",
    "    print(epoch, loss.data[0])\n",
    "\n",
    "    # Zero gradients, perform a backward pass, and update the weights.\n",
    "    optimizer.zero_grad()\n",
    "    loss.backward()\n",
    "    optimizer.step()\n"
   ]
  }
 ],
 "metadata": {
  "kernelspec": {
   "display_name": "Python [conda env:pytorch]",
   "language": "python",
   "name": "conda-env-pytorch-py"
  },
  "language_info": {
   "codemirror_mode": {
    "name": "ipython",
    "version": 3
   },
   "file_extension": ".py",
   "mimetype": "text/x-python",
   "name": "python",
   "nbconvert_exporter": "python",
   "pygments_lexer": "ipython3",
   "version": "3.6.5"
  }
 },
 "nbformat": 4,
 "nbformat_minor": 2
}
